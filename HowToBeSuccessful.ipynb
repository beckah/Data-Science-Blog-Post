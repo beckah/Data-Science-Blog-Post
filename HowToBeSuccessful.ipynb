{
 "cells": [
  {
   "cell_type": "markdown",
   "metadata": {},
   "source": [
    "First, let's take a look at the data, and see how we might answer the first question about how to break into the field of becoming a data scientist according to the survey results.\n",
    "\n",
    "To get started, let's read in the necessary libraries we will need to wrangle our data: pandas and numpy.  If we decided to build some basic plots, matplotlib might prove useful as well."
   ]
  },
  {
   "cell_type": "code",
   "execution_count": null,
   "metadata": {},
   "outputs": [],
   "source": [
    "import numpy as np\n",
    "import pandas as pd\n",
    "from collections import defaultdict\n",
    "import matplotlib.pyplot as plt\n",
    "import seaborn as sns\n",
    "%matplotlib inline\n",
    "\n",
    "# Multiple choice dataframe\n",
    "mc_df = pd.read_csv('./datasets/multiple_choice_responses.csv')\n",
    "mc_df.head()"
   ]
  },
  {
   "cell_type": "markdown",
   "metadata": {},
   "source": [
    "As we can see, people of various professional backgrounds answered the Kaggle survey"
   ]
  },
  {
   "cell_type": "code",
   "execution_count": null,
   "metadata": {},
   "outputs": [],
   "source": [
    "mc_df.Q5.value_counts()"
   ]
  },
  {
   "cell_type": "markdown",
   "metadata": {},
   "source": [
    "We also can see that there we some people who responded who are not employed or not employed full time, which we can infer from their reported salary"
   ]
  },
  {
   "cell_type": "code",
   "execution_count": null,
   "metadata": {},
   "outputs": [],
   "source": [
    "mc_df.Q11.value_counts()"
   ]
  },
  {
   "cell_type": "markdown",
   "metadata": {},
   "source": [
    "Let's narrow it down to just data scientists who are employed"
   ]
  },
  {
   "cell_type": "code",
   "execution_count": null,
   "metadata": {},
   "outputs": [],
   "source": [
    "# Only data scientists\n",
    "ds_df = mc_df[mc_df['Q5'] .isin(['Data Scientist', 'Statistician']) ]\n",
    "# Only those are are employed and make over $1000/yr\n",
    "ds_df = ds_df[~ds_df['Q11'].isin(['$0 (USD)', '$1-$99', '$100-$999', ''])] \n",
    "\n",
    "ds_df"
   ]
  },
  {
   "cell_type": "markdown",
   "metadata": {},
   "source": [
    "After seeing the salary values of the cohort, we can see that there are a pecular amount of data scientists who make less than $10,000 which is considered below the poverty line in the United States. This doesn't seem right."
   ]
  },
  {
   "cell_type": "code",
   "execution_count": null,
   "metadata": {},
   "outputs": [],
   "source": [
    "ds_df[ds_df.Q11.notnull()].Q11.value_counts()"
   ]
  },
  {
   "cell_type": "markdown",
   "metadata": {},
   "source": [
    "Let's check to see if this is dictated by the country of the correspondent "
   ]
  },
  {
   "cell_type": "code",
   "execution_count": null,
   "metadata": {},
   "outputs": [],
   "source": [
    "ds_df[ds_df.Q11 == '$1000-$9,999'].Q3.value_counts()"
   ]
  },
  {
   "cell_type": "markdown",
   "metadata": {},
   "source": [
    "Most correspondents who answer less than $10,000 are from India. What salary did most Indian correspondence answers and is it similar to the United States*?\n",
    "\n",
    "<sub>*We are getting finding based on the assumption that our readers are American</sub>"
   ]
  },
  {
   "cell_type": "code",
   "execution_count": null,
   "metadata": {},
   "outputs": [],
   "source": [
    "ds_df[ds_df['Q3'] == 'India' ].Q11.value_counts(normalize=True)"
   ]
  },
  {
   "cell_type": "code",
   "execution_count": null,
   "metadata": {},
   "outputs": [],
   "source": [
    "ds_df[ds_df['Q3'] == 'United States of America' ].Q11.value_counts(normalize=True)"
   ]
  },
  {
   "cell_type": "markdown",
   "metadata": {},
   "source": [
    "As we can see, the United States and India are not comparable in their salary distribution. Our audience for this analysis are typically American, therefore, analysis based on salaries in the United States and similar countries might be helpful. \n",
    "\n",
    "We can narrow this down by only evaluating data from the top 30 countries who are classified as having \"Very high human development\" based on the HDI [(more info on HDI can be found here)](https://en.wikipedia.org/wiki/List_of_countries_by_Human_Development_Index#Very_high_human_development)."
   ]
  },
  {
   "cell_type": "code",
   "execution_count": null,
   "metadata": {},
   "outputs": [],
   "source": [
    "high_hdi_countries = ['Norway', 'Switzerland', 'Australia', 'Ireland', 'Germany', 'Iceland', 'Hong Kong', \n",
    "                      'Sweden', 'Singapore', 'Netherlands', 'Denmark', 'Canada', 'United States of America', 'United Kingdom',\n",
    "                      'Finland', 'New Zealand', 'Belgium', 'Liechtenstein', 'Japan', 'Austria', 'Luxembourg',\n",
    "                      'Israel', 'South Korea', 'France', 'Slovenia', 'Spain', 'Czech Republic', 'Italy', 'Malta',\n",
    "                      'Estonia']\n",
    "\n",
    "# Only capture top 30 HDI countries\n",
    "ds_df = ds_df[ds_df['Q3'].isin(high_hdi_countries)]"
   ]
  },
  {
   "cell_type": "code",
   "execution_count": null,
   "metadata": {},
   "outputs": [],
   "source": [
    "ds_df.Q3.value_counts(normalize=True)"
   ]
  }
 ],
 "metadata": {
  "kernelspec": {
   "display_name": "Python 3",
   "language": "python",
   "name": "python3"
  },
  "language_info": {
   "codemirror_mode": {
    "name": "ipython",
    "version": 3
   },
   "file_extension": ".py",
   "mimetype": "text/x-python",
   "name": "python",
   "nbconvert_exporter": "python",
   "pygments_lexer": "ipython3",
   "version": "3.7.4"
  }
 },
 "nbformat": 4,
 "nbformat_minor": 2
}

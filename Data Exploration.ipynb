{
 "cells": [
  {
   "cell_type": "markdown",
   "metadata": {},
   "source": [
    "Read in necessary libraries"
   ]
  },
  {
   "cell_type": "code",
   "execution_count": 115,
   "metadata": {},
   "outputs": [],
   "source": [
    "import numpy as np\n",
    "import pandas as pd\n",
    "import matplotlib.pyplot as plt\n",
    "import seaborn as sns\n",
    "from sklearn.linear_model import LinearRegression\n",
    "from sklearn.model_selection import train_test_split\n",
    "from sklearn.metrics import r2_score, mean_squared_error\n",
    "from IPython import display\n",
    "%matplotlib inline"
   ]
  },
  {
   "cell_type": "markdown",
   "metadata": {},
   "source": [
    "Read in csv files"
   ]
  },
  {
   "cell_type": "code",
   "execution_count": 116,
   "metadata": {},
   "outputs": [],
   "source": [
    "df_le = pd.read_csv('./datasets/life_expectancy_data.csv')\n",
    "df_h = pd.read_csv('./datasets/economic_freedom_index2019_data.csv')\n",
    "df_ef = pd.read_csv('./datasets/economic_freedom_index2019_data.csv')\n",
    "df_sr = pd.read_csv('./datasets/suicide-rates-overview-1985-to-2016.csv')"
   ]
  },
  {
   "cell_type": "markdown",
   "metadata": {},
   "source": [
    "Rename all country columns in dataframes to be the same"
   ]
  },
  {
   "cell_type": "code",
   "execution_count": 127,
   "metadata": {},
   "outputs": [
    {
     "name": "stdout",
     "output_type": "stream",
     "text": [
      "(2938, 22)\n",
      "(186, 34)\n",
      "(186, 34)\n",
      "(27820, 12)\n"
     ]
    }
   ],
   "source": [
    "df_le.rename(columns={\"Country\": \"Country\"})\n",
    "df_h.rename(columns={\"Country Name\": \"Country\"})\n",
    "df_ef.rename(columns={\"Country Name\": \"Country\"})\n",
    "df_sr.rename(columns={\"country\": \"Country\"})\n",
    "\n",
    "print(df_le.shape)\n",
    "print(df_h.shape)\n",
    "print(df_ef.shape)\n",
    "print(df_sr.shape)"
   ]
  },
  {
   "cell_type": "markdown",
   "metadata": {},
   "source": [
    "Filter life expectancy dataframe (df_le) and suicide rate dataframe (df_sr) to be the latest year collected (2015 and 2016 respectively). Then, rename year column to reflect the origin of the year collected which will be useful when joining data."
   ]
  },
  {
   "cell_type": "code",
   "execution_count": 137,
   "metadata": {},
   "outputs": [
    {
     "data": {
      "text/plain": [
       "(160, 12)"
      ]
     },
     "execution_count": 137,
     "metadata": {},
     "output_type": "execute_result"
    }
   ],
   "source": [
    "df_le = df_le[df_le['Year'] == 2015]\n",
    "df_sr = df_sr[df_sr['year'] == 2016]\n",
    "\n",
    "df_le.rename(columns={\"Year\", \"LE Year Collected\"})\n",
    "df_sr.rename(columns={\"year\", \"SR Year Collected\"})"
   ]
  }
 ],
 "metadata": {
  "kernelspec": {
   "display_name": "Python 2",
   "language": "python",
   "name": "python2"
  },
  "language_info": {
   "codemirror_mode": {
    "name": "ipython",
    "version": 2
   },
   "file_extension": ".py",
   "mimetype": "text/x-python",
   "name": "python",
   "nbconvert_exporter": "python",
   "pygments_lexer": "ipython2",
   "version": "2.7.16"
  }
 },
 "nbformat": 4,
 "nbformat_minor": 2
}

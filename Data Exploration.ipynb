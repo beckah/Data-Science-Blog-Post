{
 "cells": [
  {
   "cell_type": "markdown",
   "metadata": {},
   "source": [
    "Read in necessary libraries"
   ]
  },
  {
   "cell_type": "code",
   "execution_count": 20,
   "metadata": {},
   "outputs": [],
   "source": [
    "import numpy as np\n",
    "import pandas as pd\n",
    "import matplotlib.pyplot as plt\n",
    "import seaborn as sns\n",
    "from sklearn.linear_model import LinearRegression\n",
    "from sklearn.model_selection import train_test_split\n",
    "from sklearn.metrics import r2_score, mean_squared_error\n",
    "from IPython import display\n",
    "%matplotlib inline"
   ]
  },
  {
   "cell_type": "markdown",
   "metadata": {},
   "source": [
    "Read in csv files"
   ]
  },
  {
   "cell_type": "code",
   "execution_count": 33,
   "metadata": {},
   "outputs": [],
   "source": [
    "df_life_expectency = pd.read_csv('./datasets/life_expectancy_data.csv')\n",
    "df_happiness = pd.read_csv('./datasets/economic_freedom_index2019_data.csv')\n",
    "df_economic_freedom = pd.read_csv('./datasets/economic_freedom_index2019_data.csv')\n",
    "df_suicide_rates = pd.read_csv('./datasets/suicide-rates-overview-1985-to-2016.csv')"
   ]
  },
  {
   "cell_type": "markdown",
   "metadata": {},
   "source": [
    "Find country column to join dataframes on for each dataframe. Name of df marked as a comment next to each column listing."
   ]
  },
  {
   "cell_type": "code",
   "execution_count": 35,
   "metadata": {},
   "outputs": [],
   "source": [
    "df_le_cols = list(df_life_expectency.columns.values) #Country\n",
    "df_h_cols  = list(df_happiness.columns.values) #Country Name\n",
    "df_ef_cols = list(df_economic_freedom.columns.values) #Country Name\n",
    "df_sr_cols = list(df_suicide_rates.columns.values) #country"
   ]
  }
 ],
 "metadata": {
  "kernelspec": {
   "display_name": "Python 2",
   "language": "python",
   "name": "python2"
  },
  "language_info": {
   "codemirror_mode": {
    "name": "ipython",
    "version": 2
   },
   "file_extension": ".py",
   "mimetype": "text/x-python",
   "name": "python",
   "nbconvert_exporter": "python",
   "pygments_lexer": "ipython2",
   "version": "2.7.16"
  }
 },
 "nbformat": 4,
 "nbformat_minor": 2
}
